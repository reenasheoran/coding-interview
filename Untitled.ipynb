{
 "cells": [
  {
   "cell_type": "markdown",
   "id": "fd45e647",
   "metadata": {},
   "source": [
    "## Chapter 1"
   ]
  },
  {
   "cell_type": "markdown",
   "id": "33358fb0",
   "metadata": {},
   "source": [
    "##### Q-1\n",
    "Is Unique: Implement an algorithm to determine if a string has all unique characters. What if you cannot use additional data structures?"
   ]
  },
  {
   "cell_type": "code",
   "execution_count": 7,
   "id": "97eb3d28",
   "metadata": {},
   "outputs": [],
   "source": [
    "def Is_Unique(string):\n",
    "    status = True\n",
    "    for i in range(0,len(string)):\n",
    "        x= string[i]\n",
    "        for j in range(i+1,len(string)):\n",
    "            if x == string[j]:\n",
    "                status = False\n",
    "    return status"
   ]
  },
  {
   "cell_type": "code",
   "execution_count": 8,
   "id": "bc481fb6",
   "metadata": {},
   "outputs": [
    {
     "data": {
      "text/plain": [
       "False"
      ]
     },
     "execution_count": 8,
     "metadata": {},
     "output_type": "execute_result"
    }
   ],
   "source": [
    "Is_Unique('abcdd:;')"
   ]
  },
  {
   "cell_type": "code",
   "execution_count": 9,
   "id": "ef01ae93",
   "metadata": {},
   "outputs": [
    {
     "data": {
      "text/plain": [
       "True"
      ]
     },
     "execution_count": 9,
     "metadata": {},
     "output_type": "execute_result"
    }
   ],
   "source": [
    "Is_Unique('123456')"
   ]
  },
  {
   "cell_type": "markdown",
   "id": "4afc6e83",
   "metadata": {},
   "source": [
    "##### Q-2\n",
    "Check Permutation: Given two strings, write a method to decide if one is a permutation of the \n",
    "other. "
   ]
  },
  {
   "cell_type": "code",
   "execution_count": 42,
   "id": "445fc9a4",
   "metadata": {},
   "outputs": [],
   "source": [
    "def check_permutation(string1, string2):\n",
    "   \n",
    "    if len(string1) == len(string2):\n",
    "        x = []\n",
    "        for i in range(0,len(string1)):\n",
    "            if string1[i] not in x:\n",
    "                x.append(string1[i])\n",
    "        y =[]\n",
    "        for i in range(0,len(string2)):\n",
    "            if string2[i] not in y:\n",
    "                y.append(string2[i])\n",
    "        \n",
    "        if len(x) == len(y):\n",
    "            status = []\n",
    "            for i in range(0,len(x)):\n",
    "                flag = []\n",
    "                for j in range(0,len(y)):\n",
    "                    if x[i]==y[j]:\n",
    "                        \n",
    "                        flag.append(1)\n",
    "                    else:\n",
    "                        flag.append(0)\n",
    "               \n",
    "                status.append(sum(flag))\n",
    "                \n",
    "            \n",
    "                    \n",
    "        else:\n",
    "            return False\n",
    "        \n",
    "            \n",
    "    else:\n",
    "        return False\n",
    "    \n",
    "    if sum(status)==len(x):\n",
    "        return True\n",
    "    else:\n",
    "        return False\n",
    "    \n",
    "    \n",
    "    \n",
    "                   "
   ]
  },
  {
   "cell_type": "code",
   "execution_count": 52,
   "id": "7c19e4a4",
   "metadata": {},
   "outputs": [
    {
     "data": {
      "text/plain": [
       "True"
      ]
     },
     "execution_count": 52,
     "metadata": {},
     "output_type": "execute_result"
    }
   ],
   "source": [
    "check_permutation('abe123','bae213')"
   ]
  },
  {
   "cell_type": "code",
   "execution_count": 53,
   "id": "4d0fab52",
   "metadata": {},
   "outputs": [
    {
     "data": {
      "text/plain": [
       "False"
      ]
     },
     "execution_count": 53,
     "metadata": {},
     "output_type": "execute_result"
    }
   ],
   "source": [
    "check_permutation('abe223','bae213')"
   ]
  },
  {
   "cell_type": "markdown",
   "id": "048a5b9c",
   "metadata": {},
   "source": [
    "##### Q-3\n",
    "URLify: Write a method to replace all spaces in a string with '%20'. You may assume that the string \n",
    "has sufficient space at the end to hold the additional characters, and that you are given the \"true\" \n",
    "length of the string."
   ]
  },
  {
   "cell_type": "code",
   "execution_count": 212,
   "id": "f73c6fa7",
   "metadata": {},
   "outputs": [],
   "source": [
    "def URLify(string,count):\n",
    "    stringnew = []\n",
    "    for i in range(0,count):\n",
    "        print(string[i])\n",
    "        if string[i]==' ':\n",
    "            stringnew.append(str('%20'))\n",
    "            \n",
    "        else:\n",
    "            stringnew.append(string[i])\n",
    "    res = ''.join([str(item) for item in stringnew])\n",
    "                    \n",
    "    return res\n",
    "            "
   ]
  },
  {
   "cell_type": "code",
   "execution_count": 213,
   "id": "4d4b09b1",
   "metadata": {},
   "outputs": [
    {
     "name": "stdout",
     "output_type": "stream",
     "text": [
      "t\n",
      "h\n",
      "i\n",
      "s\n",
      " \n",
      "i\n",
      "s\n",
      " \n",
      "a\n",
      " \n",
      "d\n",
      "o\n",
      "g\n"
     ]
    },
    {
     "data": {
      "text/plain": [
       "'this%20is%20a%20dog'"
      ]
     },
     "execution_count": 213,
     "metadata": {},
     "output_type": "execute_result"
    }
   ],
   "source": [
    "X = URLify('this is a dog    ',13)\n",
    "X"
   ]
  },
  {
   "cell_type": "markdown",
   "id": "e12ec276",
   "metadata": {},
   "source": [
    "##### Q-4\n",
    "Palindrome Permutation: Given a string, write a function to check if it is a permutation of a palin\u0002drome. A palindrome is a word or phrase that is the same forwards and backwards. A permutation \n",
    "is a rearrangement of letters. The palindrome does not need to be limited to just dictionary words."
   ]
  },
  {
   "cell_type": "code",
   "execution_count": 306,
   "id": "ca3e6627",
   "metadata": {},
   "outputs": [],
   "source": [
    "def palindrome(string):\n",
    "    X = int(len(string)/2)\n",
    "    status =True\n",
    "    for i in range(0,X):\n",
    "        if string[i]!= string[len(string)-1-i]:\n",
    "            print(string[i],string[len(string)-1-i])\n",
    "            status = False\n",
    "            break\n",
    "            \n",
    "    return status\n",
    "            "
   ]
  },
  {
   "cell_type": "code",
   "execution_count": 313,
   "id": "44f9cc0e",
   "metadata": {},
   "outputs": [
    {
     "data": {
      "text/plain": [
       "True"
      ]
     },
     "execution_count": 313,
     "metadata": {},
     "output_type": "execute_result"
    }
   ],
   "source": [
    "palindrome('abcdcba')"
   ]
  },
  {
   "cell_type": "markdown",
   "id": "97d68478",
   "metadata": {},
   "source": [
    "##### Q-5\n",
    "One Away: There are three types of edits that can be performed on strings: insert a character, \n",
    "remove a character, or replace a character. Given two strings, write a function to check if they are \n",
    "one edit (or zero edits) away"
   ]
  },
  {
   "cell_type": "code",
   "execution_count": 337,
   "id": "5bc7d223",
   "metadata": {},
   "outputs": [],
   "source": [
    "def one_away(string1, string2):\n",
    "    count  = 0\n",
    "    status = True\n",
    "    if len(string1)!= len(string2):\n",
    "        val = len(string1)-len(string2)\n",
    "        if abs(val)>1:\n",
    "            status = False\n",
    "    else:\n",
    "        if len(string1)>= len(string2):\n",
    "            for i in range(0,len(string2)-1):\n",
    "                if string1[i]!=string2[i]:\n",
    "                    count=count+1\n",
    "                    if count>1:\n",
    "                        status = False\n",
    "                        break\n",
    "        else:\n",
    "            for i in range(0,len(string1)-1):\n",
    "                if string1[i]!=string2[i]:\n",
    "                    count=count+1\n",
    "                    if count>1:\n",
    "                        status = False\n",
    "                        break\n",
    "        \n",
    "    \n",
    "    print(string1,string2)\n",
    "    \n",
    "    return status\n",
    "    "
   ]
  },
  {
   "cell_type": "code",
   "execution_count": 343,
   "id": "4e511ddf",
   "metadata": {},
   "outputs": [
    {
     "name": "stdout",
     "output_type": "stream",
     "text": [
      "pale ple\n"
     ]
    },
    {
     "data": {
      "text/plain": [
       "True"
      ]
     },
     "execution_count": 343,
     "metadata": {},
     "output_type": "execute_result"
    }
   ],
   "source": [
    "one_away('pale','ple')"
   ]
  },
  {
   "cell_type": "markdown",
   "id": "ba3de2f7",
   "metadata": {},
   "source": [
    "##### Q-6\n",
    "String Compression: Implement a method to perform basic string compression using the counts \n",
    "of repeated characters. For example, the string aabcccccaaa would become a2blc5a3. If the \n",
    "\"compressed\" string would not become smaller than the original string, your method should return \n",
    "the original string. You can assume the string has only uppercase and lowercase letters (a - z)."
   ]
  },
  {
   "cell_type": "code",
   "execution_count": 401,
   "id": "34e564e7",
   "metadata": {},
   "outputs": [],
   "source": [
    "def compress(string):\n",
    "    comp = []\n",
    "    val = []\n",
    "    count = 0\n",
    "    for i in range(0,len(string)):\n",
    "        if string[i]!=string[i-1]:\n",
    "            val.append(count)\n",
    "            comp.append(string[i])\n",
    "            count =1\n",
    "        else:\n",
    "            count = count+1\n",
    "    val.append(count)  \n",
    "    \n",
    "    compstring = []\n",
    "    for i in range(0,len(val)-1):\n",
    "        \n",
    "        compstring.append(str(comp[i]))\n",
    "        compstring.append(str(val[i+1]))\n",
    "        \n",
    "    X = ''.join([item for item in compstring])\n",
    "    return X\n",
    "        \n",
    "        \n",
    "        \n",
    "            "
   ]
  },
  {
   "cell_type": "code",
   "execution_count": 404,
   "id": "d4f57dce",
   "metadata": {},
   "outputs": [
    {
     "data": {
      "text/plain": [
       "'a4b3c2'"
      ]
     },
     "execution_count": 404,
     "metadata": {},
     "output_type": "execute_result"
    }
   ],
   "source": [
    "compress('aaaabbbcc')"
   ]
  },
  {
   "cell_type": "code",
   "execution_count": null,
   "id": "72c01a8e",
   "metadata": {},
   "outputs": [],
   "source": []
  }
 ],
 "metadata": {
  "kernelspec": {
   "display_name": "Python 3",
   "language": "python",
   "name": "python3"
  },
  "language_info": {
   "codemirror_mode": {
    "name": "ipython",
    "version": 3
   },
   "file_extension": ".py",
   "mimetype": "text/x-python",
   "name": "python",
   "nbconvert_exporter": "python",
   "pygments_lexer": "ipython3",
   "version": "3.8.8"
  }
 },
 "nbformat": 4,
 "nbformat_minor": 5
}
